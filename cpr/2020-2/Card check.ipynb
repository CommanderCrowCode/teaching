{
 "cells": [
  {
   "cell_type": "markdown",
   "id": "8d364cbe",
   "metadata": {},
   "source": [
    "# Import modules "
   ]
  },
  {
   "cell_type": "code",
   "execution_count": 12,
   "id": "d5009457",
   "metadata": {},
   "outputs": [],
   "source": [
    "import pandas as pd\n",
    "import qgrid\n",
    "import easygui\n",
    "import glob"
   ]
  },
  {
   "cell_type": "markdown",
   "id": "d0fef615",
   "metadata": {},
   "source": [
    "# Helper functions"
   ]
  },
  {
   "cell_type": "code",
   "execution_count": 7,
   "id": "c100c9cb",
   "metadata": {},
   "outputs": [],
   "source": [
    "def count_digits(input):\n",
    "    return int(math.log10(input))+1\n"
   ]
  },
  {
   "cell_type": "markdown",
   "id": "2c95d0ab",
   "metadata": {},
   "source": [
    "# Import data"
   ]
  },
  {
   "cell_type": "code",
   "execution_count": 19,
   "id": "ef856018",
   "metadata": {},
   "outputs": [
    {
     "name": "stdout",
     "output_type": "stream",
     "text": [
      "Select a file inside a folder that contains the raw grade file.\n"
     ]
    }
   ],
   "source": [
    "# import data\n",
    "\n",
    "print(\"Select a file inside a folder that contains the raw grade file.\")\n",
    "target_dir = easygui.diropenbox(\"Select a folder that containts the raw check-in files\", \n",
    "  \"Select a folder that containts the raw check-in files\")\n",
    "\n",
    "file_data = []\n",
    "for file in glob.glob(target_dir+\"/Log*.txt\"):\n",
    "    df = pd.read_csv(file)\n",
    "    file_data.append(df)\n",
    "\n",
    "data = pd.concat(file_data)\n",
    "\n",
    "\n",
    "# data['IDcheck'] = data['StudentID'].apply(count_digits)"
   ]
  },
  {
   "cell_type": "code",
   "execution_count": null,
   "id": "800c6b6b",
   "metadata": {},
   "outputs": [],
   "source": []
  }
 ],
 "metadata": {
  "kernelspec": {
   "display_name": "Python 3",
   "language": "python",
   "name": "python3"
  },
  "language_info": {
   "codemirror_mode": {
    "name": "ipython",
    "version": 3
   },
   "file_extension": ".py",
   "mimetype": "text/x-python",
   "name": "python",
   "nbconvert_exporter": "python",
   "pygments_lexer": "ipython3",
   "version": "3.9.2"
  }
 },
 "nbformat": 4,
 "nbformat_minor": 5
}

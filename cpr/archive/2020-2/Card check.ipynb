{
 "cells": [
  {
   "cell_type": "markdown",
   "id": "8d364cbe",
   "metadata": {},
   "source": [
    "# Import modules "
   ]
  },
  {
   "cell_type": "code",
   "execution_count": 94,
   "id": "d5009457",
   "metadata": {},
   "outputs": [],
   "source": [
    "import pandas as pd\n",
    "import qgrid\n",
    "import easygui\n",
    "import glob\n",
    "import math"
   ]
  },
  {
   "cell_type": "markdown",
   "id": "d0fef615",
   "metadata": {},
   "source": [
    "# Helper functions"
   ]
  },
  {
   "cell_type": "code",
   "execution_count": 102,
   "id": "c100c9cb",
   "metadata": {},
   "outputs": [],
   "source": [
    "def count_digits(input):\n",
    "    return int(math.log10(input))+1\n",
    "\n",
    "def ID_padder(input):\n",
    "    current_year = 63\n",
    "    if count_digits(input) == 8:\n",
    "        return current_year*10**8 + input\n",
    "    elif count_digits(input) == 9:\n",
    "        return 6*10**9 + input\n",
    "    elif count_digits(input) == 10:\n",
    "        return input\n",
    "    else:\n",
    "        raise Exception(str(input) + \" -> ID Year out of range\")"
   ]
  },
  {
   "cell_type": "markdown",
   "id": "2c95d0ab",
   "metadata": {},
   "source": [
    "# Import data"
   ]
  },
  {
   "cell_type": "code",
   "execution_count": 125,
   "id": "ef856018",
   "metadata": {},
   "outputs": [
    {
     "name": "stdout",
     "output_type": "stream",
     "text": [
      "Select a file inside a folder that contains the raw grade file.\n"
     ]
    }
   ],
   "source": [
    "# import data\n",
    "\n",
    "default_dir = \"/Users/tanwaarpornthip/src/teaching/cpr/2020-2\"\n",
    "print(\"Select a file inside a folder that contains the raw grade file.\")\n",
    "target_dir = easygui.diropenbox(\"Select a folder that containts the raw check-in files\", \n",
    "  \"Select a folder that containts the raw check-in files\",default=default_dir)\n",
    "file_data = []\n",
    "for file in glob.glob(target_dir+\"/Log*.txt\"):\n",
    "    df = pd.read_csv(file,skiprows=1,sep='\\t')\n",
    "    file_data.append(df)\n",
    "\n",
    "replacement_card_data = pd.read_csv('replacement.txt', header=None)"
   ]
  },
  {
   "cell_type": "code",
   "execution_count": 126,
   "id": "9eb6c646",
   "metadata": {},
   "outputs": [],
   "source": [
    "data = pd.concat(file_data)\n",
    "data = data.drop([\"No\",\"Mchn\",\"Name\", \"Unnamed: 5\", \"IOMd\",\"DateTime\",\"Unnamed: 9\"],axis=1)\n",
    "data = data.rename(columns={\"Unnamed: 3\": \"Name\", \"EnNo\":\"ID\"})"
   ]
  },
  {
   "cell_type": "code",
   "execution_count": 134,
   "id": "f28d835f",
   "metadata": {},
   "outputs": [],
   "source": [
    "# Get replacement card data\n",
    "replacement = replacement_card_data.set_index(0).to_dict(orient='dict')[1]\n",
    "# Replacing temp card with replacement data\n",
    "data['ID'].replace(replacement, inplace=True)\n",
    "# Padding student IDs\n",
    "data['ID_length']=data['ID'].apply(count_digits)\n",
    "data['full_ID']=data['ID'].apply(ID_padder)"
   ]
  },
  {
   "cell_type": "code",
   "execution_count": 136,
   "id": "aa3798d0",
   "metadata": {},
   "outputs": [],
   "source": [
    "data.to_excel('test.xlsx')"
   ]
  },
  {
   "cell_type": "code",
   "execution_count": null,
   "id": "4fb4512e",
   "metadata": {},
   "outputs": [],
   "source": []
  }
 ],
 "metadata": {
  "kernelspec": {
   "display_name": "Python 3",
   "language": "python",
   "name": "python3"
  },
  "language_info": {
   "codemirror_mode": {
    "name": "ipython",
    "version": 3
   },
   "file_extension": ".py",
   "mimetype": "text/x-python",
   "name": "python",
   "nbconvert_exporter": "python",
   "pygments_lexer": "ipython3",
   "version": "3.9.2"
  }
 },
 "nbformat": 4,
 "nbformat_minor": 5
}

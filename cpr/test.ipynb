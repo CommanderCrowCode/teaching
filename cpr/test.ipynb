{
 "cells": [
  {
   "cell_type": "code",
   "execution_count": 1,
   "metadata": {},
   "outputs": [],
   "source": [
    "import os\n",
    "import pytesseract\n",
    "from PIL import Image\n",
    "from pdf2image import convert_from_path\n",
    "\n",
    "# Function to perform OCR on an image and extract relevant data\n",
    "def ocr_image(image):\n",
    "    ocr_result = pytesseract.image_to_string(image, lang='tha+eng')\n",
    "    return ocr_result\n",
    "\n",
    "# Function to process the OCR result and extract the data\n",
    "def process_ocr_result(ocr_result):\n",
    "    lines = ocr_result.split('\\n')\n",
    "    data = []\n",
    "    for line in lines:\n",
    "        parts = line.split()\n",
    "        if len(parts) >= 4 and parts[0].isdigit():\n",
    "            student_id = parts[0]\n",
    "            name = ' '.join(parts[1:3])\n",
    "            has_signature = len(parts) > 4\n",
    "            data.append((student_id, name, has_signature))\n",
    "    return data\n",
    "\n",
    "# Function to split PDF into images and perform OCR on each page\n",
    "def pdf_to_ocr_data(pdf_path):\n",
    "    # Convert PDF to images\n",
    "    images = convert_from_path(pdf_path)\n",
    "    \n",
    "    all_data = []\n",
    "    \n",
    "    # Perform OCR on each image and process the results\n",
    "    for image in images:\n",
    "        ocr_result = ocr_image(image)\n",
    "        data = process_ocr_result(ocr_result)\n",
    "        all_data.extend(data)\n",
    "    \n",
    "    return all_data\n",
    "\n",
    "# Specify the path to your PDF file\n",
    "pdf_path = '/Users/tanwa/Downloads/CPR Saturday morning.pdf'\n",
    "\n",
    "# Extract data from the PDF\n",
    "extracted_data = pdf_to_ocr_data(pdf_path)\n",
    "\n",
    "# # Print the extracted data\n",
    "# for entry in extracted_data:\n",
    "#     print(f\"รหัสนักศึกษา: {entry[0]}, ชื่อ - นามสกุล: {entry[1]}, ลายมือชื่อ: {entry[2]}\")\n"
   ]
  },
  {
   "cell_type": "code",
   "execution_count": 2,
   "metadata": {},
   "outputs": [
    {
     "data": {
      "text/plain": [
       "[('6330311076', 'JMR. ZIYANG', True),\n",
       " ('6330311077', 'JMR. YUANHAO', True),\n",
       " ('6530311089', 'JMR. LIANGSHUO', True),\n",
       " ('4', '6530311090 JMR.', True),\n",
       " ('6630311050', '|MR. HAOTIAN', False),\n",
       " ('6630311051', '|MR. HAOMING', True),\n",
       " ('6630311052', 'JMR. HAOUJIE', True),\n",
       " ('6630311060', '| XIANGLONG', True),\n",
       " ('13', 'MR. MAKSIM', True),\n",
       " ('6630612006', 'Ju.d. Yann', True),\n",
       " ('6630612008', '|u.a. JIN', True),\n",
       " ('6630612020', 'ure Glu', False),\n",
       " ('6630612024', 'Juris 7oNs', True),\n",
       " ('6630311002', 'June) wuains', True),\n",
       " ('6630311003', 'fwd. Uraag', True),\n",
       " ('6630311005', '|w.a. teustal', True),\n",
       " ('6630311010', 'Ju.a. dggim', True),\n",
       " ('6630311012', 'wa, Guam', True),\n",
       " ('6630311015', '|w.a. Uw', True),\n",
       " ('6630311036', '|u.a. Wvsm', True),\n",
       " ('6630311037', '|w.a. AEyIMu', True),\n",
       " ('9', '| 6630311038', True),\n",
       " ('6630311049', '= June', True),\n",
       " ('6630311057', 'June IWestos', True)]"
      ]
     },
     "execution_count": 2,
     "metadata": {},
     "output_type": "execute_result"
    }
   ],
   "source": [
    "extracted_data"
   ]
  },
  {
   "cell_type": "code",
   "execution_count": null,
   "metadata": {},
   "outputs": [],
   "source": []
  }
 ],
 "metadata": {
  "kernelspec": {
   "display_name": "teaching-xZjMjrf9-py3.11",
   "language": "python",
   "name": "python3"
  },
  "language_info": {
   "codemirror_mode": {
    "name": "ipython",
    "version": 3
   },
   "file_extension": ".py",
   "mimetype": "text/x-python",
   "name": "python",
   "nbconvert_exporter": "python",
   "pygments_lexer": "ipython3",
   "version": "3.11.9"
  }
 },
 "nbformat": 4,
 "nbformat_minor": 2
}

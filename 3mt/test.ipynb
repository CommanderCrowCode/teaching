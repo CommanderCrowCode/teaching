{
 "cells": [
  {
   "cell_type": "code",
   "execution_count": 1,
   "metadata": {},
   "outputs": [],
   "source": [
    "import requests\n",
    "import json\n",
    "import base64\n",
    "with open('sunisa.mp3', 'rb') as fh:\n",
    "    content = fh.read()\n",
    "res = requests.post(\n",
    "    'https://demo.api.gowajee.ai/speech-to-text/transcribe',\n",
    "    data=json.dumps({\n",
    "\t\t\t\"audioData\": base64.encodebytes(content).decode('utf-8')\n",
    "\t\t}),\n",
    "    headers={\n",
    "      'Content-type': 'application/json',\n",
    "      'x-api-key':'HW^8BiXeacvSTDhft*L9aTnkcSLh^XdRcrX9n8zf#WxjAFNZ%QhLDPPkG*a5LVyt'\n",
    "    }\n",
    ")\n",
    "\n",
    "# with open('gowajee.txt', 'w') as file:\n",
    "#   file.write(res[\"results\"][\"transcript\"])\n"
   ]
  },
  {
   "cell_type": "code",
   "execution_count": 3,
   "metadata": {},
   "outputs": [],
   "source": [
    "response = res.json()"
   ]
  },
  {
   "cell_type": "code",
   "execution_count": 10,
   "metadata": {},
   "outputs": [],
   "source": [
    "from pyperclip import copy\n",
    "copy(''.join([result['transcript'] for result in response['results']]))"
   ]
  },
  {
   "cell_type": "code",
   "execution_count": null,
   "metadata": {},
   "outputs": [],
   "source": [
    "import pytesseract\n",
    "from PIL import Image\n",
    "\n",
    "# Load the image\n",
    "image_path = '/mnt/data/image.png'\n",
    "image = Image.open(image_path)\n",
    "\n",
    "# Perform OCR on the image\n",
    "ocr_result = pytesseract.image_to_string(image, lang='tha+eng')\n",
    "\n",
    "# Print the OCR result for inspection\n",
    "print(ocr_result)\n",
    "\n",
    "# Process the OCR result\n",
    "lines = ocr_result.split('\\n')\n",
    "data = []\n",
    "\n",
    "# Parse the relevant data\n",
    "for line in lines:\n",
    "    parts = line.split()\n",
    "    if len(parts) >= 4 and parts[0].isdigit():\n",
    "        student_id = parts[0]\n",
    "        name = ' '.join(parts[1:3])\n",
    "        has_signature = len(parts) > 4\n",
    "        data.append((student_id, name, has_signature))\n",
    "\n",
    "# Print the extracted data\n",
    "for entry in data:\n",
    "    print(f\"รหัสนักศึกษา: {entry[0]}, ชื่อ - นามสกุล: {entry[1]}, ลายมือชื่อ: {entry[2]}\")\n"
   ]
  }
 ],
 "metadata": {
  "kernelspec": {
   "display_name": "teaching-xZjMjrf9-py3.11",
   "language": "python",
   "name": "python3"
  },
  "language_info": {
   "codemirror_mode": {
    "name": "ipython",
    "version": 3
   },
   "file_extension": ".py",
   "mimetype": "text/x-python",
   "name": "python",
   "nbconvert_exporter": "python",
   "pygments_lexer": "ipython3",
   "version": "3.11.7"
  }
 },
 "nbformat": 4,
 "nbformat_minor": 2
}

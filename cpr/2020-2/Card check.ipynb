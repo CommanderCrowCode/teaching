{
 "cells": [
  {
   "cell_type": "markdown",
   "id": "8d364cbe",
   "metadata": {},
   "source": [
    "# Import modules "
   ]
  },
  {
   "cell_type": "code",
   "execution_count": 1,
   "id": "d5009457",
   "metadata": {},
   "outputs": [],
   "source": [
    "import pandas as pd\n",
    "import qgrid\n",
    "import easygui\n",
    "import glob"
   ]
  },
  {
   "cell_type": "markdown",
   "id": "d0fef615",
   "metadata": {},
   "source": [
    "# Helper functions"
   ]
  },
  {
   "cell_type": "code",
   "execution_count": 2,
   "id": "c100c9cb",
   "metadata": {},
   "outputs": [],
   "source": [
    "def count_digits(input):\n",
    "    return int(math.log10(input))+1\n"
   ]
  },
  {
   "cell_type": "markdown",
   "id": "2c95d0ab",
   "metadata": {},
   "source": [
    "# Import data"
   ]
  },
  {
   "cell_type": "code",
   "execution_count": 36,
   "id": "ef856018",
   "metadata": {},
   "outputs": [
    {
     "name": "stdout",
     "output_type": "stream",
     "text": [
      "Select a file inside a folder that contains the raw grade file.\n"
     ]
    }
   ],
   "source": [
    "# import data\n",
    "\n",
    "default_dir = \"/Users/tanwaarpornthip/src/teaching/cpr/2020-2\"\n",
    "print(\"Select a file inside a folder that contains the raw grade file.\")\n",
    "target_dir = easygui.diropenbox(\"Select a folder that containts the raw check-in files\", \n",
    "  \"Select a folder that containts the raw check-in files\",default=default_dir)\n",
    "file_data = []\n",
    "for file in glob.glob(target_dir+\"/Log*.txt\"):\n",
    "    df = pd.read_csv(file,skiprows=1,sep='\\t')\n",
    "    file_data.append(df)\n",
    "\n",
    "replacement_card_data = pd.read_csv('replacement.txt',sep='\\t', header=None)"
   ]
  },
  {
   "cell_type": "code",
   "execution_count": 37,
   "id": "5e5163a3",
   "metadata": {},
   "outputs": [],
   "source": [
    "data = pd.concat(file_data)\n",
    "data = data.drop([\"No\",\"Mchn\",\"Name\", \"Unnamed: 5\", \"IOMd\",\"DateTime\",\"Unnamed: 9\"],axis=1)\n",
    "data = data.rename(columns={\"Unnamed: 3\": \"Name\", \"EnNo\":\"ID\"})"
   ]
  },
  {
   "cell_type": "code",
   "execution_count": 33,
   "id": "2e2667c0",
   "metadata": {},
   "outputs": [
    {
     "data": {
      "text/html": [
       "<div>\n",
       "<style scoped>\n",
       "    .dataframe tbody tr th:only-of-type {\n",
       "        vertical-align: middle;\n",
       "    }\n",
       "\n",
       "    .dataframe tbody tr th {\n",
       "        vertical-align: top;\n",
       "    }\n",
       "\n",
       "    .dataframe thead th {\n",
       "        text-align: right;\n",
       "    }\n",
       "</style>\n",
       "<table border=\"1\" class=\"dataframe\">\n",
       "  <thead>\n",
       "    <tr style=\"text-align: right;\">\n",
       "      <th></th>\n",
       "      <th>ID</th>\n",
       "      <th>Name</th>\n",
       "      <th>Mode</th>\n",
       "    </tr>\n",
       "  </thead>\n",
       "  <tbody>\n",
       "    <tr>\n",
       "      <th>0</th>\n",
       "      <td>7</td>\n",
       "      <td>7</td>\n",
       "      <td>2000/01/01  00:25:19</td>\n",
       "    </tr>\n",
       "    <tr>\n",
       "      <th>1</th>\n",
       "      <td>7</td>\n",
       "      <td>7</td>\n",
       "      <td>2000/01/01  00:27:52</td>\n",
       "    </tr>\n",
       "    <tr>\n",
       "      <th>12</th>\n",
       "      <td>2</td>\n",
       "      <td>2</td>\n",
       "      <td>2021/03/13  08:49:41</td>\n",
       "    </tr>\n",
       "    <tr>\n",
       "      <th>64</th>\n",
       "      <td>3</td>\n",
       "      <td>3</td>\n",
       "      <td>2021/03/13  08:58:15</td>\n",
       "    </tr>\n",
       "    <tr>\n",
       "      <th>244</th>\n",
       "      <td>2</td>\n",
       "      <td>2</td>\n",
       "      <td>2021/03/13  14:49:29</td>\n",
       "    </tr>\n",
       "    <tr>\n",
       "      <th>...</th>\n",
       "      <td>...</td>\n",
       "      <td>...</td>\n",
       "      <td>...</td>\n",
       "    </tr>\n",
       "    <tr>\n",
       "      <th>654</th>\n",
       "      <td>5</td>\n",
       "      <td>5</td>\n",
       "      <td>2021/03/20  14:26:36</td>\n",
       "    </tr>\n",
       "    <tr>\n",
       "      <th>753</th>\n",
       "      <td>8</td>\n",
       "      <td>a</td>\n",
       "      <td>2021/03/20  15:03:48</td>\n",
       "    </tr>\n",
       "    <tr>\n",
       "      <th>778</th>\n",
       "      <td>8</td>\n",
       "      <td>a</td>\n",
       "      <td>2021/03/20  15:40:34</td>\n",
       "    </tr>\n",
       "    <tr>\n",
       "      <th>811</th>\n",
       "      <td>5</td>\n",
       "      <td>5</td>\n",
       "      <td>2021/03/21  16:21:23</td>\n",
       "    </tr>\n",
       "    <tr>\n",
       "      <th>813</th>\n",
       "      <td>5</td>\n",
       "      <td>5</td>\n",
       "      <td>2021/03/21  16:31:56</td>\n",
       "    </tr>\n",
       "  </tbody>\n",
       "</table>\n",
       "<p>116 rows × 3 columns</p>\n",
       "</div>"
      ],
      "text/plain": [
       "     ID              Name                  Mode\n",
       "0     7  7                 2000/01/01  00:25:19\n",
       "1     7  7                 2000/01/01  00:27:52\n",
       "12    2  2                 2021/03/13  08:49:41\n",
       "64    3  3                 2021/03/13  08:58:15\n",
       "244   2  2                 2021/03/13  14:49:29\n",
       "..   ..               ...                   ...\n",
       "654   5  5                 2021/03/20  14:26:36\n",
       "753   8  a                 2021/03/20  15:03:48\n",
       "778   8  a                 2021/03/20  15:40:34\n",
       "811   5  5                 2021/03/21  16:21:23\n",
       "813   5  5                 2021/03/21  16:31:56\n",
       "\n",
       "[116 rows x 3 columns]"
      ]
     },
     "execution_count": 33,
     "metadata": {},
     "output_type": "execute_result"
    }
   ],
   "source": [
    "data[data['ID']<100]"
   ]
  },
  {
   "cell_type": "code",
   "execution_count": 38,
   "id": "c9f79650",
   "metadata": {},
   "outputs": [
    {
     "data": {
      "text/plain": [
       "{0: {0: 2, 1: 3, 2: 4, 3: 5, 4: 6, 5: 8},\n",
       " 1: {0: 6330112036,\n",
       "  1: 6330113006,\n",
       "  2: 6330112049,\n",
       "  3: 6330112082,\n",
       "  4: 6230211007,\n",
       "  5: 6330311042}}"
      ]
     },
     "execution_count": 38,
     "metadata": {},
     "output_type": "execute_result"
    }
   ],
   "source": [
    "replacement_card_data.to_dict()"
   ]
  },
  {
   "cell_type": "code",
   "execution_count": null,
   "id": "f47b3c8c",
   "metadata": {},
   "outputs": [],
   "source": []
  }
 ],
 "metadata": {
  "kernelspec": {
   "display_name": "Python 3",
   "language": "python",
   "name": "python3"
  },
  "language_info": {
   "codemirror_mode": {
    "name": "ipython",
    "version": 3
   },
   "file_extension": ".py",
   "mimetype": "text/x-python",
   "name": "python",
   "nbconvert_exporter": "python",
   "pygments_lexer": "ipython3",
   "version": "3.9.2"
  }
 },
 "nbformat": 4,
 "nbformat_minor": 5
}

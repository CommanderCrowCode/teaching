{
 "cells": [
  {
   "cell_type": "code",
   "execution_count": 1,
   "id": "98dce31e-0066-4a61-8a92-8e9c622c25d4",
   "metadata": {},
   "outputs": [],
   "source": [
    "import pandas as pd\n",
    "import plotly.express as px"
   ]
  },
  {
   "cell_type": "code",
   "execution_count": 2,
   "id": "50f5dbd7-db88-49b8-a54f-72782716f7fb",
   "metadata": {},
   "outputs": [],
   "source": [
    "raw_data = pd.read_csv('raw_grade.csv')"
   ]
  },
  {
   "cell_type": "code",
   "execution_count": 3,
   "id": "8cbc1a23-5777-4be3-a7f6-0e9505edfff8",
   "metadata": {},
   "outputs": [
    {
     "data": {
      "text/plain": [
       "Index(['First name', 'Surname', 'ID number', 'Institution', 'Department',\n",
       "       'Email address', 'Quiz: Written test: 1st attempt (Real)',\n",
       "       'Quiz: Written test: 1st attempt (Percentage)',\n",
       "       'Quiz: Written test: 1st attempt (Letter)',\n",
       "       'Quiz: Written test: 2nd attempt (Real)',\n",
       "       'Quiz: Written test: 2nd attempt (Percentage)',\n",
       "       'Quiz: Written test: 2nd attempt (Letter)',\n",
       "       'Quiz: Written test: 3rd attempt (Real)',\n",
       "       'Quiz: Written test: 3rd attempt (Percentage)',\n",
       "       'Quiz: Written test: 3rd attempt (Letter)', 'Course total (Real)',\n",
       "       'Course total (Percentage)', 'Course total (Letter)',\n",
       "       'Last downloaded from this course'],\n",
       "      dtype='object')"
      ]
     },
     "execution_count": 3,
     "metadata": {},
     "output_type": "execute_result"
    }
   ],
   "source": [
    "raw_data.columns"
   ]
  },
  {
   "cell_type": "code",
   "execution_count": 17,
   "id": "cb5d628b-9153-4a72-9360-ddded129771c",
   "metadata": {},
   "outputs": [
    {
     "name": "stderr",
     "output_type": "stream",
     "text": [
      "/var/folders/hg/_zmck_8927zg8q26v0qwzb480000gn/T/ipykernel_87537/331121255.py:4: SettingWithCopyWarning: \n",
      "A value is trying to be set on a copy of a slice from a DataFrame\n",
      "\n",
      "See the caveats in the documentation: https://pandas.pydata.org/pandas-docs/stable/user_guide/indexing.html#returning-a-view-versus-a-copy\n",
      "  subset_data['course_total'].replace('-',0,inplace=True)\n",
      "/var/folders/hg/_zmck_8927zg8q26v0qwzb480000gn/T/ipykernel_87537/331121255.py:5: SettingWithCopyWarning: \n",
      "A value is trying to be set on a copy of a slice from a DataFrame\n",
      "\n",
      "See the caveats in the documentation: https://pandas.pydata.org/pandas-docs/stable/user_guide/indexing.html#returning-a-view-versus-a-copy\n",
      "  subset_data['grade'].replace('-','E',inplace=True)\n",
      "/var/folders/hg/_zmck_8927zg8q26v0qwzb480000gn/T/ipykernel_87537/331121255.py:7: SettingWithCopyWarning: \n",
      "A value is trying to be set on a copy of a slice from a DataFrame.\n",
      "Try using .loc[row_indexer,col_indexer] = value instead\n",
      "\n",
      "See the caveats in the documentation: https://pandas.pydata.org/pandas-docs/stable/user_guide/indexing.html#returning-a-view-versus-a-copy\n",
      "  subset_data['course_grade_check'] = subset_data[['test_1','test_2','test_3']].max(axis=1)\n",
      "/var/folders/hg/_zmck_8927zg8q26v0qwzb480000gn/T/ipykernel_87537/331121255.py:9: SettingWithCopyWarning: \n",
      "A value is trying to be set on a copy of a slice from a DataFrame.\n",
      "Try using .loc[row_indexer,col_indexer] = value instead\n",
      "\n",
      "See the caveats in the documentation: https://pandas.pydata.org/pandas-docs/stable/user_guide/indexing.html#returning-a-view-versus-a-copy\n",
      "  subset_data['course_grade_check'] = pd.to_numeric(subset_data['course_grade_check'],errors='coerce').fillna(0)*2\n",
      "/var/folders/hg/_zmck_8927zg8q26v0qwzb480000gn/T/ipykernel_87537/331121255.py:10: SettingWithCopyWarning: \n",
      "A value is trying to be set on a copy of a slice from a DataFrame.\n",
      "Try using .loc[row_indexer,col_indexer] = value instead\n",
      "\n",
      "See the caveats in the documentation: https://pandas.pydata.org/pandas-docs/stable/user_guide/indexing.html#returning-a-view-versus-a-copy\n",
      "  subset_data['course_total'] = pd.to_numeric(subset_data['course_total'],errors='coerce').fillna(0)\n"
     ]
    }
   ],
   "source": [
    "subset_data = raw_data.iloc[:,[0,1,2,5,6,9,12,15,17]]\n",
    "subset_data.columns = ['firstname','lastname','id','email','test_1','test_2','test_3','course_total','grade']\n",
    "# Replace missing grade with E\n",
    "subset_data['course_total'].replace('-',0,inplace=True)\n",
    "subset_data['grade'].replace('-','E',inplace=True)\n",
    "# Get max score from all tests\n",
    "subset_data['course_grade_check'] = subset_data[['test_1','test_2','test_3']].max(axis=1)\n",
    "# Coerce data to number and check if manual calculation is the same as LMS?\n",
    "subset_data['course_grade_check'] = pd.to_numeric(subset_data['course_grade_check'],errors='coerce').fillna(0)*2\n",
    "subset_data['course_total'] = pd.to_numeric(subset_data['course_total'],errors='coerce').fillna(0)\n",
    "check_data = (subset_data['course_total'] == subset_data['course_grade_check'])"
   ]
  },
  {
   "cell_type": "code",
   "execution_count": 18,
   "id": "728cbd6c-2ee5-4afc-abe6-2cdc131b1064",
   "metadata": {},
   "outputs": [
    {
     "name": "stdout",
     "output_type": "stream",
     "text": [
      "Manual calculation agrees with LMS calculation\n"
     ]
    }
   ],
   "source": [
    "check_data = (subset_data['course_total'] == subset_data['course_grade_check'])\n",
    "if check_data.all():\n",
    "    print(\"Manual calculation agrees with LMS calculation\")\n",
    "else:\n",
    "    raise Exception(\"Manual calculation disagreed with LMS calculation\")"
   ]
  },
  {
   "cell_type": "code",
   "execution_count": 19,
   "id": "12209634-5b00-41f8-bdf2-c4b3ae002aa9",
   "metadata": {},
   "outputs": [],
   "source": [
    "def grade_cut(single_score):\n",
    "    if single_score >= 89.5:\n",
    "        return 'A'\n",
    "    elif single_score >=84.5 and single_score < 89.5:\n",
    "        return 'B+'\n",
    "    elif single_score >= 79.5 and single_score < 84.5:\n",
    "        return 'B'\n",
    "    elif single_score >= 74.5 and single_score < 79.5:\n",
    "        return 'C+'\n",
    "    elif single_score >= 69.5 and single_score < 74.5:\n",
    "        return 'C'\n",
    "    elif single_score >= 59.5 and single_score < 69.5:\n",
    "        return 'D+'\n",
    "    elif single_score >= 49.5 and single_score < 59.5:\n",
    "        return 'D'\n",
    "    else:\n",
    "        return 'E'\n",
    "    \n",
    "def grade_students(total_score):\n",
    "    return [grade_cut(x) for x in total_score]"
   ]
  },
  {
   "cell_type": "code",
   "execution_count": 20,
   "id": "37f5652c-e1ed-4f96-ada0-806cdf3cc61b",
   "metadata": {},
   "outputs": [
    {
     "name": "stderr",
     "output_type": "stream",
     "text": [
      "/var/folders/hg/_zmck_8927zg8q26v0qwzb480000gn/T/ipykernel_87537/3490554916.py:1: SettingWithCopyWarning: \n",
      "A value is trying to be set on a copy of a slice from a DataFrame.\n",
      "Try using .loc[row_indexer,col_indexer] = value instead\n",
      "\n",
      "See the caveats in the documentation: https://pandas.pydata.org/pandas-docs/stable/user_guide/indexing.html#returning-a-view-versus-a-copy\n",
      "  subset_data['manual_grade'] = grade_students(subset_data['course_total'])\n"
     ]
    }
   ],
   "source": [
    "subset_data['manual_grade'] = grade_students(subset_data['course_total'])"
   ]
  },
  {
   "cell_type": "code",
   "execution_count": 21,
   "id": "1076e42c-096a-4580-a13c-f170b6f6e0e9",
   "metadata": {},
   "outputs": [
    {
     "data": {
      "text/plain": [
       "0     D+\n",
       "1      A\n",
       "2      A\n",
       "3      E\n",
       "4     B+\n",
       "      ..\n",
       "64    D+\n",
       "65     B\n",
       "66    C+\n",
       "67    D+\n",
       "68     D\n",
       "Name: grade, Length: 69, dtype: object"
      ]
     },
     "execution_count": 21,
     "metadata": {},
     "output_type": "execute_result"
    }
   ],
   "source": [
    "subset_data['grade']"
   ]
  },
  {
   "cell_type": "code",
   "execution_count": 22,
   "id": "0b2f24f2-01eb-41fb-8890-83d27ccc888c",
   "metadata": {},
   "outputs": [
    {
     "name": "stdout",
     "output_type": "stream",
     "text": [
      "Grade check successful. All calculation completed.\n"
     ]
    }
   ],
   "source": [
    "grade_check = (subset_data['grade'] == subset_data['manual_grade'])\n",
    "if grade_check.all():\n",
    "    print(\"Grade check successful. All calculation completed.\")\n",
    "else:\n",
    "    raise Exception(\"grade check failed. Manual cal doesn't agree.\")"
   ]
  },
  {
   "cell_type": "code",
   "execution_count": 23,
   "id": "2041cccc-9be5-4559-a490-59f92ec37653",
   "metadata": {},
   "outputs": [],
   "source": [
    "subset_data.to_excel('check.xlsx')"
   ]
  },
  {
   "cell_type": "code",
   "execution_count": 24,
   "id": "b9bd0a8d-0fc5-407e-b5cd-c8db8ad9332c",
   "metadata": {},
   "outputs": [],
   "source": [
    "grade_plot = px.histogram(subset_data,x='grade',category_orders={'grade':['A','B+','B','C+','C','D+','D','E']})"
   ]
  },
  {
   "cell_type": "code",
   "execution_count": 26,
   "id": "79b81c39-a420-4772-a7ab-fb5f071e3f48",
   "metadata": {},
   "outputs": [],
   "source": [
    "grade_plot.write_image('grade_hist.png')"
   ]
  },
  {
   "cell_type": "code",
   "execution_count": 29,
   "id": "645ff396-621c-45d5-a03f-a579c94f8473",
   "metadata": {},
   "outputs": [
    {
     "data": {
      "text/html": [
       "<div>\n",
       "<style scoped>\n",
       "    .dataframe tbody tr th:only-of-type {\n",
       "        vertical-align: middle;\n",
       "    }\n",
       "\n",
       "    .dataframe tbody tr th {\n",
       "        vertical-align: top;\n",
       "    }\n",
       "\n",
       "    .dataframe thead th {\n",
       "        text-align: right;\n",
       "    }\n",
       "</style>\n",
       "<table border=\"1\" class=\"dataframe\">\n",
       "  <thead>\n",
       "    <tr style=\"text-align: right;\">\n",
       "      <th></th>\n",
       "      <th>firstname</th>\n",
       "      <th>lastname</th>\n",
       "      <th>id</th>\n",
       "      <th>email</th>\n",
       "      <th>test_1</th>\n",
       "      <th>test_2</th>\n",
       "      <th>test_3</th>\n",
       "      <th>course_total</th>\n",
       "      <th>grade</th>\n",
       "      <th>course_grade_check</th>\n",
       "      <th>manual_grade</th>\n",
       "    </tr>\n",
       "  </thead>\n",
       "  <tbody>\n",
       "    <tr>\n",
       "      <th>43</th>\n",
       "      <td>ELIZAVETA</td>\n",
       "      <td>SHUVALOVA</td>\n",
       "      <td>6430612024</td>\n",
       "      <td>6430612024@email.psu.ac.th</td>\n",
       "      <td>-</td>\n",
       "      <td>34.00</td>\n",
       "      <td>35.00</td>\n",
       "      <td>70.0</td>\n",
       "      <td>C</td>\n",
       "      <td>70.0</td>\n",
       "      <td>C</td>\n",
       "    </tr>\n",
       "  </tbody>\n",
       "</table>\n",
       "</div>"
      ],
      "text/plain": [
       "    firstname   lastname          id                       email test_1  \\\n",
       "43  ELIZAVETA  SHUVALOVA  6430612024  6430612024@email.psu.ac.th      -   \n",
       "\n",
       "   test_2 test_3  course_total grade  course_grade_check manual_grade  \n",
       "43  34.00  35.00          70.0     C                70.0            C  "
      ]
     },
     "execution_count": 29,
     "metadata": {},
     "output_type": "execute_result"
    }
   ],
   "source": [
    "subset_data[subset_data['firstname']==\"ELIZAVETA\"]"
   ]
  },
  {
   "cell_type": "code",
   "execution_count": null,
   "id": "27cffd7d-e4ab-4070-ac94-c4d01bd43d30",
   "metadata": {},
   "outputs": [],
   "source": []
  }
 ],
 "metadata": {
  "kernelspec": {
   "display_name": "Python 3 (ipykernel)",
   "language": "python",
   "name": "python3"
  },
  "language_info": {
   "codemirror_mode": {
    "name": "ipython",
    "version": 3
   },
   "file_extension": ".py",
   "mimetype": "text/x-python",
   "name": "python",
   "nbconvert_exporter": "python",
   "pygments_lexer": "ipython3",
   "version": "3.9.12"
  }
 },
 "nbformat": 4,
 "nbformat_minor": 5
}

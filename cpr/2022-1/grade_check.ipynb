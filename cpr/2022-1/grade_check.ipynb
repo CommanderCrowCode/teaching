{
 "cells": [
  {
   "cell_type": "code",
   "execution_count": 2,
   "id": "98dce31e-0066-4a61-8a92-8e9c622c25d4",
   "metadata": {},
   "outputs": [],
   "source": [
    "import pandas as pd\n",
    "import plotly.express as px"
   ]
  },
  {
   "cell_type": "code",
   "execution_count": 3,
   "id": "50f5dbd7-db88-49b8-a54f-72782716f7fb",
   "metadata": {},
   "outputs": [],
   "source": [
    "raw_data = pd.read_csv('grade.csv')"
   ]
  },
  {
   "cell_type": "code",
   "execution_count": 4,
   "id": "8cbc1a23-5777-4be3-a7f6-0e9505edfff8",
   "metadata": {},
   "outputs": [
    {
     "data": {
      "text/plain": [
       "Index(['First name', 'Surname', 'ID number', 'Institution', 'Department',\n",
       "       'Email address', 'Quiz: Written test: 1st attempt (Real)',\n",
       "       'Quiz: Written test: 1st attempt (Letter)',\n",
       "       'Quiz: Written test: 2nd attempt (Real)',\n",
       "       'Quiz: Written test: 2nd attempt (Letter)',\n",
       "       'Quiz: Written test: 3rd attempt (Real)',\n",
       "       'Quiz: Written test: 3rd attempt (Letter)', 'Course total (Real)',\n",
       "       'Course total (Letter)', 'Last downloaded from this course'],\n",
       "      dtype='object')"
      ]
     },
     "execution_count": 4,
     "metadata": {},
     "output_type": "execute_result"
    }
   ],
   "source": [
    "raw_data.columns"
   ]
  },
  {
   "cell_type": "code",
   "execution_count": 5,
   "id": "cb5d628b-9153-4a72-9360-ddded129771c",
   "metadata": {},
   "outputs": [],
   "source": [
    "subset_data = raw_data.drop(columns=raw_data.columns[[3,4,7,9,11,14]])\n",
    "subset_data.columns = ['firstname','lastname','id','email','test_1','test_2','test_3','course_total','grade']\n",
    "# Replace missing grade with E\n",
    "subset_data['course_total'].replace('-',0,inplace=True)\n",
    "subset_data['grade'].replace('-','E',inplace=True)\n",
    "# Get max score from all tests\n",
    "subset_data['course_grade_check'] = subset_data[['test_1','test_2','test_3']].max(axis=1)\n",
    "# Coerce data to number and check if manual calculation is the same as LMS?\n",
    "subset_data['course_grade_check'] = pd.to_numeric(subset_data['course_grade_check'],errors='coerce').fillna(0)*2\n",
    "subset_data['course_total'] = pd.to_numeric(subset_data['course_total'],errors='coerce').fillna(0)\n",
    "check_data = (subset_data['course_total'] == subset_data['course_grade_check'])"
   ]
  },
  {
   "cell_type": "code",
   "execution_count": 6,
   "id": "728cbd6c-2ee5-4afc-abe6-2cdc131b1064",
   "metadata": {},
   "outputs": [
    {
     "name": "stdout",
     "output_type": "stream",
     "text": [
      "Manual calculation agrees with LMS calculation\n"
     ]
    }
   ],
   "source": [
    "check_data = (subset_data['course_total'] == subset_data['course_grade_check'])\n",
    "if check_data.all():\n",
    "    print(\"Manual calculation agrees with LMS calculation\")\n",
    "else:\n",
    "    raise Exception(\"Manual calculation disagreed with LMS calculation\")"
   ]
  },
  {
   "cell_type": "code",
   "execution_count": 7,
   "id": "12209634-5b00-41f8-bdf2-c4b3ae002aa9",
   "metadata": {},
   "outputs": [],
   "source": [
    "def grade_cut(single_score):\n",
    "    if single_score >= 89.5:\n",
    "        return 'A'\n",
    "    elif single_score >=84.5 and single_score < 89.5:\n",
    "        return 'B+'\n",
    "    elif single_score >= 79.5 and single_score < 84.5:\n",
    "        return 'B'\n",
    "    elif single_score >= 74.5 and single_score < 79.5:\n",
    "        return 'C+'\n",
    "    elif single_score >= 69.5 and single_score < 74.5:\n",
    "        return 'C'\n",
    "    elif single_score >= 59.5 and single_score < 69.5:\n",
    "        return 'D+'\n",
    "    elif single_score >= 49.5 and single_score < 59.5:\n",
    "        return 'D'\n",
    "    else:\n",
    "        return 'E'\n",
    "    \n",
    "def grade_students(total_score):\n",
    "    return [grade_cut(x) for x in total_score]"
   ]
  },
  {
   "cell_type": "code",
   "execution_count": 8,
   "id": "37f5652c-e1ed-4f96-ada0-806cdf3cc61b",
   "metadata": {},
   "outputs": [],
   "source": [
    "subset_data['manual_grade'] = grade_students(subset_data['course_total'])"
   ]
  },
  {
   "cell_type": "code",
   "execution_count": 9,
   "id": "1076e42c-096a-4580-a13c-f170b6f6e0e9",
   "metadata": {},
   "outputs": [
    {
     "data": {
      "text/plain": [
       "0      D\n",
       "1      A\n",
       "2      A\n",
       "3      E\n",
       "4     B+\n",
       "      ..\n",
       "64    D+\n",
       "65     B\n",
       "66     C\n",
       "67     D\n",
       "68     D\n",
       "Name: grade, Length: 69, dtype: object"
      ]
     },
     "execution_count": 9,
     "metadata": {},
     "output_type": "execute_result"
    }
   ],
   "source": [
    "subset_data['grade']"
   ]
  },
  {
   "cell_type": "code",
   "execution_count": 10,
   "id": "0b2f24f2-01eb-41fb-8890-83d27ccc888c",
   "metadata": {},
   "outputs": [
    {
     "name": "stdout",
     "output_type": "stream",
     "text": [
      "Grade check successful. All calculation completed.\n"
     ]
    }
   ],
   "source": [
    "grade_check = (subset_data['grade'] == subset_data['manual_grade'])\n",
    "if grade_check.all():\n",
    "    print(\"Grade check successful. All calculation completed.\")\n",
    "else:\n",
    "    raise Exception(\"grade check failed. Manual cal doesn't agree.\")"
   ]
  },
  {
   "cell_type": "code",
   "execution_count": 11,
   "id": "2041cccc-9be5-4559-a490-59f92ec37653",
   "metadata": {},
   "outputs": [],
   "source": [
    "subset_data.to_excel('check.xlsx')"
   ]
  },
  {
   "cell_type": "code",
   "execution_count": 12,
   "id": "b9bd0a8d-0fc5-407e-b5cd-c8db8ad9332c",
   "metadata": {},
   "outputs": [],
   "source": [
    "grade_plot = px.histogram(subset_data,x='grade',category_orders={'grade':['A','B+','B','C+','C','D+','D','E']})"
   ]
  },
  {
   "cell_type": "code",
   "execution_count": 18,
   "id": "79b81c39-a420-4772-a7ab-fb5f071e3f48",
   "metadata": {},
   "outputs": [],
   "source": [
    "grade_plot.write_image('grade_hist.png')"
   ]
  }
 ],
 "metadata": {
  "kernelspec": {
   "display_name": "Python 3 (ipykernel)",
   "language": "python",
   "name": "python3"
  },
  "language_info": {
   "codemirror_mode": {
    "name": "ipython",
    "version": 3
   },
   "file_extension": ".py",
   "mimetype": "text/x-python",
   "name": "python",
   "nbconvert_exporter": "python",
   "pygments_lexer": "ipython3",
   "version": "3.9.12"
  }
 },
 "nbformat": 4,
 "nbformat_minor": 5
}
